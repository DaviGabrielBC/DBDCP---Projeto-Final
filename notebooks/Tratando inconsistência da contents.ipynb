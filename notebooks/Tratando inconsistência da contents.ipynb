{
 "cells": [
  {
   "cell_type": "code",
   "execution_count": 1,
   "id": "0c10c9ce",
   "metadata": {},
   "outputs": [],
   "source": [
    "import pandas as pd"
   ]
  },
  {
   "cell_type": "code",
   "execution_count": 2,
   "id": "0d83eeec",
   "metadata": {},
   "outputs": [],
   "source": [
    "#Carregando os arquivos como dataframe\n",
    "df_foods_fdb = pd.read_csv('../data/raw/foodb/Food.csv', dtype = str)\n",
    "df_contents = pd.read_csv('../data/raw/foodb/Content.csv', dtype = str)"
   ]
  },
  {
   "cell_type": "code",
   "execution_count": 6,
   "id": "14e0fc9c",
   "metadata": {},
   "outputs": [
    {
     "data": {
      "text/plain": [
       "5145532"
      ]
     },
     "execution_count": 6,
     "metadata": {},
     "output_type": "execute_result"
    }
   ],
   "source": [
    "#Total de linhas antes do tratamento\n",
    "df_contents.shape[0]"
   ]
  },
  {
   "cell_type": "code",
   "execution_count": 23,
   "id": "f02544f1",
   "metadata": {},
   "outputs": [],
   "source": [
    "# Cria uma lista de IDs da tabela Foods_fdb\n",
    "ids_foods_fdb = df_foods_fdb['id'].tolist()\n",
    "\n",
    "# Filtra o DataFrame Contents\n",
    "# Mantém apenas as linhas onde food_id está na lista de IDs da tabela Foods_fdb\n",
    "df_contents = df_contents[df_contents['food_id'].isin(ids_foods_fdb)]\n"
   ]
  },
  {
   "cell_type": "code",
   "execution_count": null,
   "id": "52fe0732",
   "metadata": {},
   "outputs": [],
   "source": [
    "#Total de linhas antes do tratamento\n",
    "df_contents.shape[0]"
   ]
  },
  {
   "cell_type": "code",
   "execution_count": 21,
   "id": "aaee62f6",
   "metadata": {},
   "outputs": [],
   "source": [
    "#Salvando o arquivo com uma limitação de caracteres para evitar que fique com mais de 100 mb\n",
    "# A versão completa do arquivo tem mais de 5 milhões de linhas e 700 mb. Nós usamos a versão completa para rodar localmente\n",
    "# O arquivo esta na flag gitignore\n",
    "df_contents.head(250000).to_csv('../data/interm/Content_tratado_cropped.csv', index = False)"
   ]
  }
 ],
 "metadata": {
  "kernelspec": {
   "display_name": "Python 3 (ipykernel)",
   "language": "python",
   "name": "python3"
  },
  "language_info": {
   "codemirror_mode": {
    "name": "ipython",
    "version": 3
   },
   "file_extension": ".py",
   "mimetype": "text/x-python",
   "name": "python",
   "nbconvert_exporter": "python",
   "pygments_lexer": "ipython3",
   "version": "3.9.13"
  },
  "toc": {
   "base_numbering": 1,
   "nav_menu": {},
   "number_sections": false,
   "sideBar": false,
   "skip_h1_title": false,
   "title_cell": "Table of Contents",
   "title_sidebar": "Contents",
   "toc_cell": false,
   "toc_position": {},
   "toc_section_display": false,
   "toc_window_display": false
  }
 },
 "nbformat": 4,
 "nbformat_minor": 5
}
