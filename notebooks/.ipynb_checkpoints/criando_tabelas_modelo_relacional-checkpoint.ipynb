{
 "cells": [
  {
   "cell_type": "code",
   "execution_count": 67,
   "id": "767de477-e354-4d7d-8230-a0a76520d6b4",
   "metadata": {
    "tags": [],
    "vscode": {
     "languageId": "sql"
    }
   },
   "outputs": [],
   "source": [
    "%defaultDatasource jdbc:h2:mem:db"
   ]
  },
  {
   "cell_type": "code",
   "execution_count": null,
   "id": "51c9e282-4c72-461a-90db-1f96e806145f",
   "metadata": {
    "tags": [],
    "vscode": {
     "languageId": "sql"
    }
   },
   "outputs": [
    {
     "ename": "org.h2.jdbc.JdbcSQLException",
     "evalue": " Out of memory.; SQL statement",
     "output_type": "error",
     "traceback": [
      "\u001b[1;31morg.h2.jdbc.JdbcSQLException: Out of memory.; SQL statement:\u001b[0;0m",
      "\u001b[1;31mCREATE TABLE Contents (\u001b[0;0m",
      "\u001b[1;31mid INT,\u001b[0;0m",
      "\u001b[1;31msource_id INT,\u001b[0;0m",
      "\u001b[1;31msource_type VARCHAR(20),\u001b[0;0m",
      "\u001b[1;31mfood_id INT,\u001b[0;0m",
      "\u001b[1;31morig_source_id VARCHAR(300),\u001b[0;0m",
      "\u001b[1;31morig_content DOUBLE,\u001b[0;0m",
      "\u001b[1;31morig_min DOUBLE,\u001b[0;0m",
      "\u001b[1;31morig_max DOUBLE,\u001b[0;0m",
      "\u001b[1;31morig_unit varchar(55)\u001b[0;0m",
      "\u001b[1;31m) AS SELECT\u001b[0;0m",
      "\u001b[1;31mid, source_id, source_type, food_id, orig_source_id, orig_content, orig_min, orig_max, orig_unit\u001b[0;0m",
      "\u001b[1;31mFROM CSVREAD('../data/interm/Content_tratado.csv') [90108-197]\u001b[0;0m"
     ]
    }
   ],
   "source": [
    "DROP TABLE IF EXISTS Crop_Group;\n",
    "DROP TABLE IF EXISTS FCID_Description;\n",
    "DROP TABLE IF EXISTS Recipes_fcid;\n",
    "DROP TABLE IF EXISTS Intake;\n",
    "DROP TABLE IF EXISTS Compounds;\n",
    "DROP TABLE IF EXISTS Foods_fcid;\n",
    "DROP TABLE IF EXISTS Nutrients;\n",
    "DROP TABLE IF EXISTS Components;\n",
    "DROP TABLE IF EXISTS Foods_fdb;\n",
    "DROP TABLE IF EXISTS Contents;\n",
    "DROP TABLE IF EXISTS EFSA_Intake;\n",
    "\n",
    "\n",
    "-- Tabelas FCID\n",
    "\n",
    "CREATE TABLE Crop_Group (\n",
    "  CGN TINYINT,\n",
    "  CGL VARCHAR(6),\n",
    "  Crop_Group_Description VARCHAR(100),\n",
    "  PRIMARY KEY (CGL)\n",
    ") AS SELECT\n",
    "  CGN, CGL, Crop_Group_Description\n",
    "FROM CSVREAD('../data/processed/fcid/FCID_Cropgroup_Description.csv');\n",
    "\n",
    "\n",
    "-- Tabela com a descrição dos produtos alimentares utilizados nas receitas\n",
    "CREATE TABLE FCID_Description (\n",
    "  CGN VARCHAR(2),\n",
    "  CG_Subgroup VARCHAR(6),\n",
    "  FCID_Code VARCHAR(10),\n",
    "  FCID_Desc VARCHAR(55),\n",
    "  PRIMARY KEY (FCID_Code),\n",
    ") AS SELECT\n",
    "  cgn, CG_Subgroup, FCID_Code, FCID_Desc\n",
    "FROM CSVREAD('../data/processed/fcid/FCID_Code_Description.csv');\n",
    "\n",
    "-- Tabela de cmidas que são descritas na tabela de receitas\n",
    "CREATE TABLE Foods_fcid (\n",
    "  Food_Code VARCHAR(8),\n",
    "  Food_Abbrev_Desc VARCHAR(55),\n",
    "  Food_Desc VARCHAR(104)\n",
    ") AS SELECT\n",
    "  Food_Code, Food_Abbrev_Desc, Food_Desc\n",
    "FROM CSVREAD('../data/processed/fcid/Food_Code_Description.csv');\n",
    "\n",
    "-- Tabela de receitas cortada para viabilizar a análise no Binder\n",
    "CREATE TABLE Recipes_fcid (\n",
    "  Food_Code VARCHAR(8),\n",
    "  Mod_Code VARCHAR(8),\n",
    "  Ingredient_Num TINYINT,\n",
    "  FCID_Code VARCHAR(10),\n",
    "  Cooked_Status TINYINT,\n",
    "  Food_Form TINYINT,\n",
    "  Cooking_Method TINYINT,\n",
    "  Commodity_Weight DECIMAL(8, 2),\n",
    "  PRIMARY KEY(Food_Code, Mod_Code, Ingredient_Num),\n",
    "  FOREIGN KEY(FCID_Code)\n",
    "    REFERENCES FCID_Description(FCID_Code)\n",
    "      ON DELETE NO ACTION\n",
    "      ON UPDATE NO ACTION,\n",
    "  FOREIGN KEY(Food_Code)\n",
    "    REFERENCES Foods_fcid(Food_Code)\n",
    "      ON DELETE NO ACTION\n",
    "      ON UPDATE NO ACTION\n",
    ") AS SELECT\n",
    "  Food_Code, Mod_Code, Ingredient_Num, FCID_Code, Cooked_Status, Food_Form, Cooking_Method,\n",
    "  Commodity_Weight\n",
    "FROM CSVREAD('../data/processed/fcid/Recipes_WWEIA_FCID_0510.csv');\n",
    "\n",
    "-- Tabela de consumo cortada para viabilizar a análise no binder\n",
    "CREATE TABLE Intake (\n",
    "  SeqN INTEGER NOT NULL,\n",
    "  DayCode TINYINT NOT NULL,\n",
    "  DraBF TINYINT,\n",
    "  FCID_Code VARCHAR(10),\n",
    "  Cooked_Status TINYINT,\n",
    "  Food_Form TINYINT,\n",
    "  Cooking_Method TINYINT,\n",
    "  Intake DECIMAL(15,7),\n",
    "  Intake_BW DECIMAL(15,10),\n",
    "  PRIMARY KEY(SeqN, DayCode, FCID_Code, Cooked_Status, Food_Form, Cooking_Method),\n",
    "  FOREIGN KEY(FCID_Code)\n",
    "    REFERENCES FCID_Description(FCID_Code)\n",
    "      ON DELETE NO ACTION\n",
    "      ON UPDATE NO ACTION\n",
    ") AS SELECT\n",
    "  SEQN, DAYCODE, DRABF, FCID_Code, Cooked_Status, Food_Form, Cooking_Method, Intake,Intake_BW\n",
    "FROM CSVREAD('../data/processed/fcid/Commodity_CSFFM_Intake_0510_cropped.csv');\n",
    "\n",
    "\n",
    "-- Tabelas do FoodDB\n",
    "CREATE TABLE Nutrients (\n",
    "  id TINYINT,\n",
    "  public_id VARCHAR(12),\n",
    "  name VARCHAR(55),\n",
    "  calories_per_gram INT,\n",
    "  PRIMARY KEY(id)\n",
    "  ) AS SELECT\n",
    "  id, public_id, name, calories_per_gram\n",
    "FROM CSVREAD('../data/processed/foodb/Nutrient.csv');\n",
    "\n",
    "CREATE TABLE Compounds (\n",
    "  id INT,\n",
    "  public_id VARCHAR(12),\n",
    "  name VARCHAR(300),\n",
    "  PRIMARY KEY(id)\n",
    "  ) AS SELECT\n",
    "  id, public_id, name\n",
    "FROM CSVREAD('../data/processed/foodb/Compound.csv');\n",
    "\n",
    "CREATE TABLE Foods_fdb (\n",
    "id INT,\n",
    "public_id VARCHAR(12),\n",
    "name VARCHAR(55),\n",
    "name_scientific VARCHAR(55),\n",
    "--description VARCHAR(600), Retirado pq é muito grande e não vamos usar\n",
    "food_group VARCHAR(55),\n",
    "food_subgroup VARCHAR(55),\n",
    "food_type VARCHAR(55),\n",
    "PRIMARY KEY(id)\n",
    "  ) AS SELECT\n",
    "  id, public_id, name, name_scientific, food_group, food_subgroup, food_type \n",
    "FROM CSVREAD('../data/processed/foodb/Food.csv');\n",
    "\n",
    "\n",
    "CREATE TABLE Contents (\n",
    "id INT,\n",
    "source_id INT,\n",
    "source_type VARCHAR(20),\n",
    "food_id INT,\n",
    "orig_source_id VARCHAR(300),\n",
    "orig_content DOUBLE,\n",
    "orig_min DOUBLE,\n",
    "orig_max DOUBLE,\n",
    "orig_unit varchar(55)\n",
    "  ) AS SELECT\n",
    "  id, source_id, source_type, food_id, orig_source_id, orig_content, orig_min, orig_max, orig_unit\n",
    "FROM CSVREAD('../data/interm/Content_tratado.csv');"
   ]
  },
  {
   "cell_type": "code",
   "execution_count": null,
   "id": "646d2a8f",
   "metadata": {},
   "outputs": [
    {
     "ename": "org.h2.jdbc.JdbcSQLException",
     "evalue": " Table \"CONTENTS\" not found; SQL statement",
     "output_type": "error",
     "traceback": [
      "\u001b[1;31morg.h2.jdbc.JdbcSQLException: Table \"CONTENTS\" not found; SQL statement:\u001b[0;0m",
      "\u001b[1;31mCREATE INDEX idx_contents_source_id  ON Contents (source_id) [42102-197]\u001b[0;0m"
     ]
    }
   ],
   "source": [
    "CREATE INDEX idx_contents_source_id  ON Contents (source_id);\n",
    "CREATE INDEX idx_contents_food_id  ON Contents (food_id);\n",
    "CREATE INDEX idx_foods_fdb_id  ON Foods_fdb (id);\n",
    "CREATE INDEX idx_nutrients_id  ON Contents (id);"
   ]
  },
  {
   "cell_type": "code",
   "execution_count": null,
   "id": "e5cf42e4",
   "metadata": {},
   "outputs": [
    {
     "ename": "org.h2.jdbc.JdbcSQLException",
     "evalue": " Table \"CONTENTS\" not found; SQL statement",
     "output_type": "error",
     "traceback": [
      "\u001b[1;31morg.h2.jdbc.JdbcSQLException: Table \"CONTENTS\" not found; SQL statement:\u001b[0;0m",
      "\u001b[1;31mSELECT TOP 100 *\u001b[0;0m",
      "\u001b[1;31mFROM Contents [42102-197]\u001b[0;0m"
     ]
    }
   ],
   "source": [
    "SELECT TOP 100 *\n",
    "FROM Contents"
   ]
  },
  {
   "cell_type": "code",
   "execution_count": null,
   "id": "90384951",
   "metadata": {},
   "outputs": [
    {
     "ename": "org.h2.jdbc.JdbcSQLException",
     "evalue": " Table \"CONTENTS\" not found; SQL statement",
     "output_type": "error",
     "traceback": [
      "\u001b[1;31morg.h2.jdbc.JdbcSQLException: Table \"CONTENTS\" not found; SQL statement:\u001b[0;0m",
      "\u001b[1;31mSELECT name, id, sum(calories_per_100g) as calories_per_100g\u001b[0;0m",
      "\u001b[1;31mFROM (SELECT food.name, food.id,\u001b[0;0m",
      "\u001b[1;31mCASE\u001b[0;0m",
      "\u001b[1;31mWHEN cnts.orig_unit LIKE '%kcal%' THEN cnts.orig_source_id ELSE cnts.orig_content * ntr.calories_per_gram / 1000\u001b[0;0m",
      "\u001b[1;31mEND AS calories_per_100g\u001b[0;0m",
      "\u001b[1;31mFROM contents AS cnts\u001b[0;0m",
      "\u001b[1;31mJOIN nutrients AS ntr\u001b[0;0m",
      "\u001b[1;31mON cnts.source_id = ntr.id AND cnts.source_type = 'Nutrient'\u001b[0;0m",
      "\u001b[1;31mJOIN foods_fdb as food\u001b[0;0m",
      "\u001b[1;31mon cnts.food_id = food.id) as subquery\u001b[0;0m",
      "\u001b[1;31mGROUP BY id, name\u001b[0;0m",
      "\u001b[1;31mORDER BY calories_per_100g desc [42102-197]\u001b[0;0m"
     ]
    }
   ],
   "source": [
    "SELECT name, id, sum(calories_per_100g) as calories_per_100g\n",
    "FROM (SELECT food.name, food.id,\n",
    "    CASE\n",
    "        WHEN cnts.orig_unit LIKE '%kcal%' THEN cnts.orig_source_id -- Supondo que orig_source_id está na tabela contents\n",
    "        ELSE cnts.orig_content * ntr.calories_per_gram / 1000\n",
    "    END AS calories_per_100g\n",
    "FROM contents AS cnts\n",
    "JOIN nutrients AS ntr \n",
    "    ON cnts.source_id = ntr.id AND cnts.source_type = 'Nutrient'\n",
    "JOIN foods_fdb as food\n",
    "    on cnts.food_id = food.id) as subquery\n",
    "GROUP BY id, name\n",
    "ORDER BY calories_per_100g desc"
   ]
  },
  {
   "cell_type": "code",
   "execution_count": null,
   "id": "eb225006",
   "metadata": {
    "scrolled": true
   },
   "outputs": [
    {
     "ename": "org.h2.jdbc.JdbcSQLException",
     "evalue": " Table \"CONTENTS\" not found; SQL statement",
     "output_type": "error",
     "traceback": [
      "\u001b[1;31morg.h2.jdbc.JdbcSQLException: Table \"CONTENTS\" not found; SQL statement:\u001b[0;0m",
      "\u001b[1;31mSELECT id, name, sum(calories_per_100g) as calories_per_100g\u001b[0;0m",
      "\u001b[1;31mFROM (SELECT\u001b[0;0m",
      "\u001b[1;31mfood.id,\u001b[0;0m",
      "\u001b[1;31mfood.name,\u001b[0;0m",
      "\u001b[1;31mAVG( cnts.orig_content * ntr.calories_per_gram / 1000) AS calories_per_100g\u001b[0;0m",
      "\u001b[1;31mFROM contents AS cnts\u001b[0;0m",
      "\u001b[1;31mJOIN nutrients AS ntr\u001b[0;0m",
      "\u001b[1;31mON cnts.source_id = ntr.id AND cnts.source_type = 'Nutrient'\u001b[0;0m",
      "\u001b[1;31mJOIN foods_fdb as food\u001b[0;0m",
      "\u001b[1;31mON cnts.food_id = food.id\u001b[0;0m",
      "\u001b[1;31mGROUP BY food.id, food.name, cnts.source_id) as subquery\u001b[0;0m",
      "\u001b[1;31mGROUP BY id, name\u001b[0;0m",
      "\u001b[1;31mORDER BY calories_per_100g desc [42102-197]\u001b[0;0m"
     ]
    }
   ],
   "source": [
    "SELECT id, name, sum(calories_per_100g) as calories_per_100g\n",
    "FROM (SELECT \n",
    "    food.id, \n",
    "    food.name,\n",
    "    AVG( cnts.orig_content * ntr.calories_per_gram / 1000) AS calories_per_100g\n",
    "FROM contents AS cnts\n",
    "JOIN nutrients AS ntr \n",
    "    ON cnts.source_id = ntr.id AND cnts.source_type = 'Nutrient'\n",
    "JOIN foods_fdb as food\n",
    "    ON cnts.food_id = food.id\n",
    "GROUP BY food.id, food.name, cnts.source_id) as subquery\n",
    "GROUP BY id, name\n",
    "ORDER BY calories_per_100g desc"
   ]
  },
  {
   "cell_type": "code",
   "execution_count": null,
   "id": "98c85da5",
   "metadata": {},
   "outputs": [
    {
     "ename": "org.h2.jdbc.JdbcSQLException",
     "evalue": " Table \"CONTENTS\" not found; SQL statement",
     "output_type": "error",
     "traceback": [
      "\u001b[1;31morg.h2.jdbc.JdbcSQLException: Table \"CONTENTS\" not found; SQL statement:\u001b[0;0m",
      "\u001b[1;31mSELECT COUNT(*)\u001b[0;0m",
      "\u001b[1;31mFROM contents AS cnts\u001b[0;0m",
      "\u001b[1;31mJOIN nutrients AS ntr\u001b[0;0m",
      "\u001b[1;31mON cnts.source_id = ntr.id AND cnts.source_type = 'Nutrient' [42102-197]\u001b[0;0m"
     ]
    }
   ],
   "source": [
    "SELECT COUNT(*)\n",
    "FROM contents AS cnts\n",
    "JOIN nutrients AS ntr \n",
    "    ON cnts.source_id = ntr.id AND cnts.source_type = 'Nutrient'"
   ]
  },
  {
   "cell_type": "code",
   "execution_count": null,
   "id": "a8c742e1",
   "metadata": {},
   "outputs": [
    {
     "ename": "org.h2.jdbc.JdbcSQLException",
     "evalue": " Table \"CONTENTS\" not found; SQL statement",
     "output_type": "error",
     "traceback": [
      "\u001b[1;31morg.h2.jdbc.JdbcSQLException: Table \"CONTENTS\" not found; SQL statement:\u001b[0;0m",
      "\u001b[1;31mSELECT cnts.orig_content, source_id,\u001b[0;0m",
      "\u001b[1;31mfood.id,\u001b[0;0m",
      "\u001b[1;31mfood.name,\u001b[0;0m",
      "\u001b[1;31mCASE\u001b[0;0m",
      "\u001b[1;31mWHEN cnts.orig_unit LIKE '%kcal%' THEN cnts.orig_source_id\u001b[0;0m",
      "\u001b[1;31mELSE cnts.orig_content * ntr.calories_per_gram / 1000\u001b[0;0m",
      "\u001b[1;31mEND AS calories_per_100g\u001b[0;0m",
      "\u001b[1;31mFROM contents AS cnts\u001b[0;0m",
      "\u001b[1;31mJOIN nutrients AS ntr\u001b[0;0m",
      "\u001b[1;31mON cnts.source_id = ntr.id AND cnts.source_type = 'Nutrient'\u001b[0;0m",
      "\u001b[1;31mJOIN foods_fdb as food\u001b[0;0m",
      "\u001b[1;31mON cnts.food_id = food.id\u001b[0;0m",
      "\u001b[1;31mWHERE food.id = 205\u001b[0;0m",
      "\u001b[1;31m--GROUP BY food.id, food.name, cnts.source_id [42102-197]\u001b[0;0m"
     ]
    }
   ],
   "source": [
    "SELECT cnts.orig_content, source_id,\n",
    "    food.id, \n",
    "    food.name,\n",
    "        CASE\n",
    "            WHEN cnts.orig_unit LIKE '%kcal%' THEN cnts.orig_source_id\n",
    "            ELSE cnts.orig_content * ntr.calories_per_gram / 1000\n",
    "        END AS calories_per_100g\n",
    "FROM contents AS cnts\n",
    "JOIN nutrients AS ntr \n",
    "    ON cnts.source_id = ntr.id AND cnts.source_type = 'Nutrient'\n",
    "JOIN foods_fdb as food\n",
    "    ON cnts.food_id = food.id\n",
    "WHERE food.id = 205\n",
    "--GROUP BY food.id, food.name, cnts.source_id\n"
   ]
  }
 ],
 "metadata": {
  "kernelspec": {
   "display_name": "SQL",
   "language": "SQL",
   "name": "sql"
  },
  "language_info": {
   "codemirror_mode": "sql",
   "file_extension": ".sql",
   "mimetype": "",
   "name": "SQL",
   "nbconverter_exporter": "",
   "version": ""
  },
  "toc": {
   "base_numbering": 1,
   "nav_menu": {},
   "number_sections": false,
   "sideBar": false,
   "skip_h1_title": false,
   "title_cell": "Table of Contents",
   "title_sidebar": "Contents",
   "toc_cell": false,
   "toc_position": {},
   "toc_section_display": false,
   "toc_window_display": false
  }
 },
 "nbformat": 4,
 "nbformat_minor": 5
}
